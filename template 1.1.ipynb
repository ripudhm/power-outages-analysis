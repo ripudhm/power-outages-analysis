{
 "cells": [
  {
   "cell_type": "markdown",
   "metadata": {},
   "source": [
    "# Is climate an important characteristic of major power outages in the United States?\n",
    "\n",
    "**Name(s)**: Ripudh Mylapur, Chia Lee\n",
    "\n",
    "**Website Link**: https://ripudhm.github.io/power-outages-analysis/"
   ]
  },
  {
   "cell_type": "markdown",
   "metadata": {},
   "source": [
    "## Code"
   ]
  },
  {
   "cell_type": "code",
   "execution_count": 84,
   "execution_count": 1,
   "metadata": {
    "ExecuteTime": {
     "end_time": "2019-10-31T23:36:28.652554Z",
     "start_time": "2019-10-31T23:36:27.180520Z"
    }
   },
   "outputs": [],
   "source": [
    "import pandas as pd\n",
    "import numpy as np\n",
    "import os\n",
    "\n",
    "import plotly.express as px\n",
    "pd.options.plotting.backend = 'plotly'\n",
    "\n",
    "from sklearn.linear_model import LinearRegression\n",
    "from sklearn.compose import ColumnTransformer\n",
    "from sklearn.pipeline import Pipeline\n",
    "from sklearn.preprocessing import OneHotEncoder\n",
    "from sklearn.preprocessing import StandardScaler"
   ]
  },
  {
   "cell_type": "markdown",
   "metadata": {},
   "source": [
    "### Framing the Problem"
   ]
  },
  {
   "cell_type": "code",
   "execution_count": 2,
   "metadata": {
    "ExecuteTime": {
     "end_time": "2019-10-31T23:36:28.657068Z",
     "start_time": "2019-10-31T23:36:28.654650Z"
    }
   },
   "outputs": [],
   "source": [
    "import openpyxl\n",
    "df = pd.read_excel(r\"outage.xlsx\", index_col = 1, header = 5)\n",
    "df = df.drop(np.nan)\n",
    "df = df.drop('variables', axis = 1)\n",
    "\n",
    "def join_times(col_date, col_time):\n",
    "    \n",
    "    time = df[[col_date, col_time]]\n",
    "    time = time.assign(date=pd.to_datetime(time[col_date]))\n",
    "    time['date'] = time['date'].astype(str)\n",
    "    time = time.assign(datetime=time['date'] + ' ' + time[col_time].astype(str))\n",
    "    time = time.replace('NaT nan', np.nan)\n",
    "    time = time.assign(fin=pd.to_datetime(time['datetime']))\n",
    "    return time['fin']\n",
    "\n",
    "out_start = join_times('OUTAGE.START.DATE', 'OUTAGE.START.TIME')\n",
    "rest = join_times('OUTAGE.RESTORATION.DATE', 'OUTAGE.RESTORATION.TIME')\n",
    "df = df.assign(out_start = out_start)\n",
    "df = df.assign(rest_start = rest)\n",
    "df = df.rename(columns = {'out_start': 'OUTAGE.START', 'rest_start': 'OUTAGE.RESTORATION'})\n"
   ]
  },
  {
   "cell_type": "markdown",
   "metadata": {},
   "source": [
    "### Baseline Model"
   ]
  },
  {
   "cell_type": "code",
   "execution_count": 3,
   "metadata": {
    "ExecuteTime": {
     "end_time": "2019-10-31T23:36:28.662099Z",
     "start_time": "2019-10-31T23:36:28.660016Z"
    }
   },
   "outputs": [],
   "source": [
    "unique_regions = df['CLIMATE.REGION'].value_counts()\n",
    "for reg in unique_regions.index:\n",
    "    df[reg] = df['CLIMATE.REGION'].apply(lambda x: 1 if x == reg else 0)"
   ]
  },
  {
   "cell_type": "code",
   "execution_count": 11,
   "execution_count": 8,
   "metadata": {},
   "outputs": [
    {
     "data": {
      "text/plain": [
       "Index(['YEAR', 'MONTH', 'U.S._STATE', 'POSTAL.CODE', 'NERC.REGION',\n",
       "       'CLIMATE.REGION', 'ANOMALY.LEVEL', 'CLIMATE.CATEGORY',\n",
       "       'OUTAGE.START.DATE', 'OUTAGE.START.TIME', 'OUTAGE.RESTORATION.DATE',\n",
       "       'OUTAGE.RESTORATION.TIME', 'CAUSE.CATEGORY', 'CAUSE.CATEGORY.DETAIL',\n",
       "       'HURRICANE.NAMES', 'OUTAGE.DURATION', 'DEMAND.LOSS.MW',\n",
       "       'CUSTOMERS.AFFECTED', 'RES.PRICE', 'COM.PRICE', 'IND.PRICE',\n",
       "       'TOTAL.PRICE', 'RES.SALES', 'COM.SALES', 'IND.SALES', 'TOTAL.SALES',\n",
       "       'RES.PERCEN', 'COM.PERCEN', 'IND.PERCEN', 'RES.CUSTOMERS',\n",
       "       'COM.CUSTOMERS', 'IND.CUSTOMERS', 'TOTAL.CUSTOMERS', 'RES.CUST.PCT',\n",
       "       'COM.CUST.PCT', 'IND.CUST.PCT', 'PC.REALGSP.STATE', 'PC.REALGSP.USA',\n",
       "       'PC.REALGSP.REL', 'PC.REALGSP.CHANGE', 'UTIL.REALGSP', 'TOTAL.REALGSP',\n",
       "       'UTIL.CONTRI', 'PI.UTIL.OFUSA', 'POPULATION', 'POPPCT_URBAN',\n",
       "       'POPPCT_UC', 'POPDEN_URBAN', 'POPDEN_UC', 'POPDEN_RURAL',\n",
       "       'AREAPCT_URBAN', 'AREAPCT_UC', 'PCT_LAND', 'PCT_WATER_TOT',\n",
       "       'PCT_WATER_INLAND', 'OUTAGE.START', 'OUTAGE.RESTORATION', 'Northeast',\n",
       "       'South', 'West', 'Central', 'Southeast', 'East North Central',\n",
       "       'Northwest', 'Southwest', 'West North Central'],\n",
       "      dtype='object')"
      ]
     },
     "execution_count": 11,
       "OBS\n",
       "1.0              severe weather\n",
       "2.0          intentional attack\n",
       "3.0              severe weather\n",
       "4.0              severe weather\n",
       "5.0              severe weather\n",
       "                  ...          \n",
       "1530.0            public appeal\n",
       "1531.0    fuel supply emergency\n",
       "1532.0                islanding\n",
       "1533.0                islanding\n",
       "1534.0        equipment failure\n",
       "Name: CAUSE.CATEGORY, Length: 1534, dtype: object"
      ]
     },
     "execution_count": 8,
     "metadata": {},
     "output_type": "execute_result"
    }
   ],
   "source": [
    "df.columns"
    "df['CAUSE.CATEGORY']"
   ]
  },
  {
   "cell_type": "code",
   "execution_count": 144,
   "execution_count": 5,
   "metadata": {},
   "outputs": [],
   "source": [
    "df1 = df[['OUTAGE.DURATION', 'MONTH', 'NERC.REGION','CAUSE.CATEGORY','CLIMATE.CATEGORY', 'CUSTOMERS.AFFECTED']]"
   ]
  },
  {
   "cell_type": "code",
   "execution_count": 162,
   "execution_count": 6,
   "metadata": {
    "scrolled": false
   },
   "outputs": [
    {
     "data": {
      "text/html": [
       "<div>\n",
       "<style scoped>\n",
       "    .dataframe tbody tr th:only-of-type {\n",
       "        vertical-align: middle;\n",
       "    }\n",
       "\n",
       "    .dataframe tbody tr th {\n",
       "        vertical-align: top;\n",
       "    }\n",
       "\n",
       "    .dataframe thead th {\n",
       "        text-align: right;\n",
       "    }\n",
       "</style>\n",
       "<table border=\"1\" class=\"dataframe\">\n",
       "  <thead>\n",
       "    <tr style=\"text-align: right;\">\n",
       "      <th></th>\n",
       "      <th>OUTAGE.DURATION</th>\n",
       "      <th>MONTH</th>\n",
       "      <th>NERC.REGION</th>\n",
       "      <th>CAUSE.CATEGORY</th>\n",
       "      <th>CLIMATE.CATEGORY</th>\n",
       "      <th>CUSTOMERS.AFFECTED</th>\n",
       "    </tr>\n",
       "    <tr>\n",
       "      <th>OBS</th>\n",
       "      <th></th>\n",
       "      <th></th>\n",
       "      <th></th>\n",
       "      <th></th>\n",
       "      <th></th>\n",
       "      <th></th>\n",
       "    </tr>\n",
       "  </thead>\n",
       "  <tbody>\n",
       "    <tr>\n",
       "      <th>1.0</th>\n",
       "      <td>3060</td>\n",
       "      <td>7.0</td>\n",
       "      <td>MRO</td>\n",
       "      <td>severe weather</td>\n",
       "      <td>normal</td>\n",
       "      <td>70000.0</td>\n",
       "    </tr>\n",
       "    <tr>\n",
       "      <th>3.0</th>\n",
       "      <td>3000</td>\n",
       "      <td>10.0</td>\n",
       "      <td>MRO</td>\n",
       "      <td>severe weather</td>\n",
       "      <td>cold</td>\n",
       "      <td>70000.0</td>\n",
       "    </tr>\n",
       "    <tr>\n",
       "      <th>4.0</th>\n",
       "      <td>2550</td>\n",
       "      <td>6.0</td>\n",
       "      <td>MRO</td>\n",
       "      <td>severe weather</td>\n",
       "      <td>normal</td>\n",
       "      <td>68200.0</td>\n",
       "    </tr>\n",
       "    <tr>\n",
       "      <th>5.0</th>\n",
       "      <td>1740</td>\n",
       "      <td>7.0</td>\n",
       "      <td>MRO</td>\n",
       "      <td>severe weather</td>\n",
       "      <td>warm</td>\n",
       "      <td>250000.0</td>\n",
       "    </tr>\n",
       "    <tr>\n",
       "      <th>6.0</th>\n",
       "      <td>1860</td>\n",
       "      <td>11.0</td>\n",
       "      <td>MRO</td>\n",
       "      <td>severe weather</td>\n",
       "      <td>cold</td>\n",
       "      <td>60000.0</td>\n",
       "    </tr>\n",
       "    <tr>\n",
       "      <th>...</th>\n",
       "      <td>...</td>\n",
       "      <td>...</td>\n",
       "      <td>...</td>\n",
       "      <td>...</td>\n",
       "      <td>...</td>\n",
       "      <td>...</td>\n",
       "    </tr>\n",
       "    <tr>\n",
       "      <th>1523.0</th>\n",
       "      <td>95</td>\n",
       "      <td>6.0</td>\n",
       "      <td>WECC</td>\n",
       "      <td>system operability disruption</td>\n",
       "      <td>normal</td>\n",
       "      <td>35000.0</td>\n",
       "    </tr>\n",
       "    <tr>\n",
       "      <th>1524.0</th>\n",
       "      <td>360</td>\n",
       "      <td>1.0</td>\n",
       "      <td>WECC</td>\n",
       "      <td>intentional attack</td>\n",
       "      <td>cold</td>\n",
       "      <td>0.0</td>\n",
       "    </tr>\n",
       "    <tr>\n",
       "      <th>1525.0</th>\n",
       "      <td>1548</td>\n",
       "      <td>6.0</td>\n",
       "      <td>WECC</td>\n",
       "      <td>public appeal</td>\n",
       "      <td>normal</td>\n",
       "      <td>0.0</td>\n",
       "    </tr>\n",
       "    <tr>\n",
       "      <th>1527.0</th>\n",
       "      <td>0</td>\n",
       "      <td>3.0</td>\n",
       "      <td>WECC</td>\n",
       "      <td>intentional attack</td>\n",
       "      <td>warm</td>\n",
       "      <td>0.0</td>\n",
       "    </tr>\n",
       "    <tr>\n",
       "      <th>1530.0</th>\n",
       "      <td>720</td>\n",
       "      <td>12.0</td>\n",
       "      <td>MRO</td>\n",
       "      <td>public appeal</td>\n",
       "      <td>cold</td>\n",
       "      <td>34500.0</td>\n",
       "    </tr>\n",
       "  </tbody>\n",
       "</table>\n",
       "<p>1056 rows × 6 columns</p>\n",
       "</div>"
      ],
      "text/plain": [
       "       OUTAGE.DURATION  MONTH NERC.REGION                 CAUSE.CATEGORY  \\\n",
       "OBS                                                                        \n",
       "1.0               3060    7.0         MRO                 severe weather   \n",
       "3.0               3000   10.0         MRO                 severe weather   \n",
       "4.0               2550    6.0         MRO                 severe weather   \n",
       "5.0               1740    7.0         MRO                 severe weather   \n",
       "6.0               1860   11.0         MRO                 severe weather   \n",
       "...                ...    ...         ...                            ...   \n",
       "1523.0              95    6.0        WECC  system operability disruption   \n",
       "1524.0             360    1.0        WECC             intentional attack   \n",
       "1525.0            1548    6.0        WECC                  public appeal   \n",
       "1527.0               0    3.0        WECC             intentional attack   \n",
       "1530.0             720   12.0         MRO                  public appeal   \n",
       "\n",
       "       CLIMATE.CATEGORY  CUSTOMERS.AFFECTED  \n",
       "OBS                                          \n",
       "1.0              normal             70000.0  \n",
       "3.0                cold             70000.0  \n",
       "4.0              normal             68200.0  \n",
       "5.0                warm            250000.0  \n",
       "6.0                cold             60000.0  \n",
       "...                 ...                 ...  \n",
       "1523.0           normal             35000.0  \n",
       "1524.0             cold                 0.0  \n",
       "1525.0           normal                 0.0  \n",
       "1527.0             warm                 0.0  \n",
       "1530.0             cold             34500.0  \n",
       "\n",
       "[1056 rows x 6 columns]"
      ]
     },
     "execution_count": 162,
     "execution_count": 6,
     "metadata": {},
     "output_type": "execute_result"
    }
   ],
   "source": [
    "df1 = df1.dropna()\n",
    "df1"
   ]
  },
  {
   "cell_type": "code",
   "execution_count": 172,
   "metadata": {},
   "outputs": [],
   "source": [
    "preproc = ColumnTransformer(\n",
    "    transformers=[\n",
    "        ('ohe', OneHotEncoder(), ['MONTH','NERC.REGION','CAUSE.CATEGORY', 'CLIMATE.CATEGORY']),\n",
    "        ('standardise', StandardScaler(), ['CUSTOMERS.AFFECTED'])\n",
    "    ],\n",
    "    remainder='drop' # Specify what to do with all other columns ('total_bill' here) – drop or passthrough.\n",
    ")"
   ]
  },
  {
   "cell_type": "code",
   "execution_count": 173,
   "metadata": {},
   "outputs": [],
   "source": [
    "pl1 = Pipeline([\n",
    "    ('preproc', preproc),\n",
    "    ('lin-reg', LinearRegression())\n",
    "])"
   ]
  },
  {
   "cell_type": "code",
   "execution_count": 174,
   "metadata": {
    "scrolled": false
   },
   "outputs": [
    {
     "data": {
      "text/plain": [
       "Pipeline(steps=[('preproc',\n",
       "                 ColumnTransformer(transformers=[('ohe', OneHotEncoder(),\n",
       "                                                  ['MONTH', 'NERC.REGION',\n",
       "                                                   'CAUSE.CATEGORY',\n",
       "                                                   'CLIMATE.CATEGORY']),\n",
       "                                                 ('standardise',\n",
       "                                                  StandardScaler(),\n",
       "                                                  ['CUSTOMERS.AFFECTED'])])),\n",
       "                ('lin-reg', LinearRegression())])"
      ]
     },
     "execution_count": 174,
     "metadata": {},
     "output_type": "execute_result"
    }
   ],
   "source": [
    "pl1.fit(df1.drop(['OUTAGE.DURATION'], axis=1), df1['OUTAGE.DURATION'])"
   ]
  },
  {
   "cell_type": "code",
   "execution_count": 175,
   "metadata": {},
   "outputs": [
    {
     "data": {
      "text/plain": [
       "0.2833768942618282"
      ]
     },
     "execution_count": 175,
     "metadata": {},
     "output_type": "execute_result"
    }
   ],
   "source": [
    "pl1.score(df1.drop(['OUTAGE.DURATION'], axis=1), df1['OUTAGE.DURATION'])"
   ]
  },
  {
   "cell_type": "code",
   "execution_count": 7,
   "metadata": {},
   "outputs": [
    {
     "data": {
      "text/plain": [
       "LinearRegression()"
      ]
     },
     "execution_count": 7,
     "metadata": {},
     "output_type": "execute_result"
    }
   ],
   "source": [
    "model = LinearRegression()\n",
    "y = df1[['OUTAGE.DURATION']]\n",
    "X = df1[['CUSTOMERS.AFFECTED', 'Northeast', 'South','West','Central', 'Southeast', 'East North Central', 'Northwest', 'Southwest', 'West North Central']]\n",
    "model.fit(X = X, y = y)"
   ]
  },
  {
   "cell_type": "code",
   "execution_count": 8,
   "metadata": {},
   "outputs": [],
   "source": [
    "def rmse(actual, pred):\n",
    "    return np.sqrt(np.mean((actual - pred) ** 2))"
   ]
  },
  {
   "cell_type": "code",
   "execution_count": 9,
   "metadata": {},
   "outputs": [
    {
     "data": {
      "text/plain": [
       "4221.9003055200965"
      ]
     },
     "execution_count": 9,
     "metadata": {},
     "output_type": "execute_result"
    }
   ],
   "source": [
    "all_preds = model.predict(X)\n",
    "rmse(df1['OUTAGE.DURATION'], all_preds.reshape(-1))"
   ]
  },
  {
   "cell_type": "code",
   "execution_count": 10,
   "metadata": {},
   "outputs": [
    {
     "data": {
      "text/plain": [
       "array([3783.263788  , 3783.263788  , 3776.01621183, ..., 2089.84348567,\n",
       "       2089.84348567, 1446.96868626])"
      ]
     },
     "execution_count": 10,
     "metadata": {},
     "output_type": "execute_result"
    }
   ],
   "source": [
    "all_preds.reshape(-1)"
   ]
  },
  {
   "cell_type": "markdown",
   "metadata": {},
   "source": [
    "### Final Model"
   ]
  },
  {
   "cell_type": "code",
   "execution_count": null,
   "metadata": {
    "ExecuteTime": {
     "end_time": "2019-10-31T23:36:28.662099Z",
     "start_time": "2019-10-31T23:36:28.660016Z"
    }
   },
   "outputs": [],
   "source": [
    "# TODO"
   ]
  },
  {
   "cell_type": "markdown",
   "metadata": {},
   "source": [
    "### Fairness Analysis"
   ]
  },
  {
   "cell_type": "code",
   "execution_count": null,
   "metadata": {
    "ExecuteTime": {
     "end_time": "2019-10-31T23:36:28.666489Z",
     "start_time": "2019-10-31T23:36:28.664381Z"
    }
   },
   "outputs": [],
   "source": [
    "# TODO"
   ]
  }
 ],
 "metadata": {
  "kernelspec": {
   "display_name": "Python 3 (ipykernel)",
   "language": "python",
   "name": "python3"
  },
  "language_info": {
   "codemirror_mode": {
    "name": "ipython",
    "version": 3
   },
   "file_extension": ".py",
   "mimetype": "text/x-python",
   "name": "python",
   "nbconvert_exporter": "python",
   "pygments_lexer": "ipython3",
   "version": "3.8.15"
  }
 },
 "nbformat": 4,
 "nbformat_minor": 2
}
